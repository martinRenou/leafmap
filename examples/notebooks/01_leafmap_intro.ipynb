{
  "nbformat": 4,
  "nbformat_minor": 0,
  "metadata": {
    "hide_input": false,
    "kernelspec": {
      "display_name": "Python 3",
      "language": "python",
      "name": "python3"
    },
    "language_info": {
      "codemirror_mode": {
        "name": "ipython",
        "version": 3
      },
      "file_extension": ".py",
      "mimetype": "text/x-python",
      "name": "python",
      "nbconvert_exporter": "python",
      "pygments_lexer": "ipython3",
      "version": "3.8.5"
    },
    "toc": {
      "base_numbering": 1,
      "nav_menu": {},
      "number_sections": true,
      "sideBar": true,
      "skip_h1_title": false,
      "title_cell": "Table of Contents",
      "title_sidebar": "Contents",
      "toc_cell": false,
      "toc_position": {},
      "toc_section_display": true,
      "toc_window_display": false
    },
    "varInspector": {
      "cols": {
        "lenName": 16,
        "lenType": 16,
        "lenVar": 40
      },
      "kernels_config": {
        "python": {
          "delete_cmd_postfix": "",
          "delete_cmd_prefix": "del ",
          "library": "var_list.py",
          "varRefreshCmd": "print(var_dic_list())"
        },
        "r": {
          "delete_cmd_postfix": ") ",
          "delete_cmd_prefix": "rm(",
          "library": "var_list.r",
          "varRefreshCmd": "cat(var_dic_list()) "
        }
      },
      "types_to_exclude": [
        "module",
        "function",
        "builtin_function_or_method",
        "instance",
        "_Feature"
      ],
      "window_display": false
    },
    "colab": {
      "name": "01_leafmap_intro.ipynb",
      "provenance": []
    }
  },
  "cells": [
    {
      "cell_type": "markdown",
      "metadata": {
        "id": "1CFzMrw5zmzc"
      },
      "source": [
        "[![image](https://colab.research.google.com/assets/colab-badge.svg)](https://githubtocolab.com/giswqs/leafmap/blob/master/examples/notebooks/01_leafmap_intro.ipynb)\n",
        "[![image](https://binder.pangeo.io/badge_logo.svg)](https://gishub.org/leafmap-pangeo)\n",
        "\n",
        "Uncomment the following line to install [leafmap](https://leafmap.org) if needed."
      ]
    },
    {
      "cell_type": "code",
      "metadata": {
        "id": "Z-EC7VcMzmzd"
      },
      "source": [
        "# !pip install leafmap"
      ],
      "execution_count": null,
      "outputs": []
    },
    {
      "cell_type": "markdown",
      "metadata": {
        "id": "NMaUEGU61AjG"
      },
      "source": [
        "**Note**\n",
        "\n",
        "- The line: `leafmap.update_package()`\n",
        "makes sure that the figure \n",
        "windows are adjusted to height/width specifications.\n",
        "- You need to run the following cell only once. \n",
        "- Running the cell itself will enforce the notebook to restart.\n",
        "- See: https://github.com/giswqs/leafmap/issues/21\n",
        "for more details.\n",
        "- After running this cell, set the parmeter `FIRSTRUN = False` and rerun the notebook."
      ]
    },
    {
      "cell_type": "code",
      "metadata": {
        "cellView": "form",
        "id": "gSnIF9gyzmzd"
      },
      "source": [
        "#@title Run this cell only once\n",
        "#@markdown Unckeck (set to *False*) the parameter `FIRSTRUN` when you run the notebook **AFTER** the *auto-restart*. \n",
        "FIRSTRUN = True #@param {type:\"boolean\"}\n",
        "## Run this cell once and then \n",
        "## comment it out after first run\n",
        "if FIRSTRUN:\n",
        "    import leafmap\n",
        "    leafmap.update_package()\n",
        "    print(\"Restarting notebook server...\")\n",
        "    import os\n",
        "    os.kill(os.getpid(), 9)"
      ],
      "execution_count": null,
      "outputs": []
    },
    {
      "cell_type": "code",
      "metadata": {
        "id": "-R1zCh5IjYTn"
      },
      "source": [
        "import leafmap"
      ],
      "execution_count": null,
      "outputs": []
    },
    {
      "cell_type": "code",
      "metadata": {
        "id": "-t_ER_sLzmze"
      },
      "source": [
        "m = leafmap.Map()\n",
        "m"
      ],
      "execution_count": null,
      "outputs": []
    },
    {
      "cell_type": "code",
      "metadata": {
        "id": "QMRsdUtEzmze"
      },
      "source": [
        "m = leafmap.Map(center=[50, 19], zoom=4)  #center=[lat, lon]\n",
        "m"
      ],
      "execution_count": null,
      "outputs": []
    },
    {
      "cell_type": "code",
      "metadata": {
        "id": "WoB3Qz2wzmze"
      },
      "source": [
        "m = leafmap.Map(draw_control=False, measure_control=False, fullscreen_control=False, attribution_control=True)\n",
        "m"
      ],
      "execution_count": null,
      "outputs": []
    },
    {
      "cell_type": "code",
      "metadata": {
        "scrolled": false,
        "id": "EJ3NluXUzmze"
      },
      "source": [
        "m = leafmap.Map(height=\"450px\")\n",
        "m"
      ],
      "execution_count": null,
      "outputs": []
    }
  ]
}