{
 "cells": [
  {
   "cell_type": "code",
   "execution_count": null,
   "id": "451c22f6",
   "metadata": {},
   "outputs": [],
   "source": [
    "import os\n",
    "import leafmap.heremap as leafmap"
   ]
  },
  {
   "cell_type": "code",
   "execution_count": null,
   "id": "95d0909c",
   "metadata": {},
   "outputs": [],
   "source": [
    "# Read api_key from environment\n",
    "\n",
    "api_key = os.environ[\"HEREMAPS_API_KEY\"]"
   ]
  },
  {
   "cell_type": "markdown",
   "id": "1f06c52a",
   "metadata": {},
   "source": [
    "## HERE default Map"
   ]
  },
  {
   "cell_type": "code",
   "execution_count": null,
   "id": "0c5ad5ab",
   "metadata": {},
   "outputs": [],
   "source": [
    "m = leafmap.Map(api_key=api_key)\n",
    "m"
   ]
  },
  {
   "cell_type": "code",
   "execution_count": null,
   "id": "bb139d74",
   "metadata": {},
   "outputs": [],
   "source": [
    "m = leafmap.Map(api_key=api_key, center=[50, 19], zoom=4)  #center=[lat, lon]\n",
    "m"
   ]
  },
  {
   "cell_type": "code",
   "execution_count": null,
   "id": "65a0ec08",
   "metadata": {},
   "outputs": [],
   "source": [
    "m = leafmap.Map(api_key=api_key, fullscreen_control=False)\n",
    "m"
   ]
  },
  {
   "cell_type": "code",
   "execution_count": null,
   "id": "3b29edad",
   "metadata": {},
   "outputs": [],
   "source": [
    "m = leafmap.Map(api_key=api_key, height=\"450px\")\n",
    "m"
   ]
  },
  {
   "cell_type": "markdown",
   "id": "acfbe5de",
   "metadata": {},
   "source": [
    "## Basemaps"
   ]
  },
  {
   "cell_type": "code",
   "execution_count": null,
   "id": "7e809f50",
   "metadata": {},
   "outputs": [],
   "source": [
    "m = leafmap.Map(api_key=api_key, basemap=\"HERE_RASTER_TERRAIN_MAP\")\n",
    "m"
   ]
  },
  {
   "cell_type": "code",
   "execution_count": null,
   "id": "1ce18955",
   "metadata": {},
   "outputs": [],
   "source": [
    "m.add_basemap(basemap=\"Esri Topo World\")"
   ]
  },
  {
   "cell_type": "code",
   "execution_count": null,
   "id": "22eef167",
   "metadata": {},
   "outputs": [],
   "source": [
    "m = leafmap.Map(api_key=api_key)\n",
    "m.add_tile_layer(url=\"https://mt1.google.com/vt/lyrs=y&x={x}&y={y}&z={z}\", name=\"Google Satellite\")\n",
    "m"
   ]
  },
  {
   "cell_type": "code",
   "execution_count": null,
   "id": "d0d4b541",
   "metadata": {},
   "outputs": [],
   "source": [
    "from here_map_widget import DefaultLayerNames"
   ]
  },
  {
   "cell_type": "code",
   "execution_count": null,
   "id": "7193597b",
   "metadata": {},
   "outputs": [],
   "source": [
    "dir(DefaultLayerNames.vector.normal)"
   ]
  },
  {
   "cell_type": "code",
   "execution_count": null,
   "id": "25498bcc",
   "metadata": {},
   "outputs": [],
   "source": [
    "DefaultLayerNames.raster.satellite.base, DefaultLayerNames.raster.satellite.labels, \\\n",
    "DefaultLayerNames.raster.satellite.map, DefaultLayerNames.raster.satellite.xbase"
   ]
  },
  {
   "cell_type": "markdown",
   "id": "440502a1",
   "metadata": {},
   "source": [
    "## Add vector data\n",
    "**How to add a shapefile, GeoJSON, and KML to the map**"
   ]
  },
  {
   "cell_type": "code",
   "execution_count": null,
   "id": "cf48e92f",
   "metadata": {},
   "outputs": [],
   "source": [
    "m = leafmap.Map(api_key=api_key, center=[0, 0], zoom=2)\n",
    "\n",
    "in_geojson = 'https://raw.githubusercontent.com/giswqs/leafmap/master/examples/data/cable-geo.geojson'\n",
    "m.add_geojson(in_geojson, layer_name=\"Cable lines\")\n",
    "\n",
    "m"
   ]
  },
  {
   "cell_type": "code",
   "execution_count": null,
   "id": "20713602",
   "metadata": {},
   "outputs": [],
   "source": [
    "import json \n",
    "\n",
    "m = leafmap.Map(api_key=api_key, center=[0, 0], zoom=2)\n",
    "with open(\"../data/countries.geojson\") as fh:\n",
    "    geo = json.load(fh)\n",
    "m.add_geojson(geo, layer_name=\"Countries\")\n",
    "m"
   ]
  },
  {
   "cell_type": "code",
   "execution_count": null,
   "id": "7b9e69c9",
   "metadata": {},
   "outputs": [],
   "source": [
    "m = leafmap.Map(api_key=api_key, center=[0, 0], zoom=2)\n",
    "\n",
    "url = \"https://raw.githubusercontent.com/giswqs/leafmap/master/examples/data/countries.geojson\"\n",
    "\n",
    "style = {\n",
    "    \"fillColor\": \"rgba(0, 0, 255, 0.2)\", \"strokeColor\": \"blue\",\n",
    "}\n",
    "\n",
    "hover_style = {\"fillColor\": \"rgba(0, 0, 255, 0.7)\"}\n",
    "\n",
    "m.add_geojson(url, layer_name=\"Countries\", style=style, hover_style=hover_style)\n",
    "m"
   ]
  }
 ],
 "metadata": {
  "kernelspec": {
   "display_name": "Python 3",
   "language": "python",
   "name": "python3"
  },
  "language_info": {
   "codemirror_mode": {
    "name": "ipython",
    "version": 3
   },
   "file_extension": ".py",
   "mimetype": "text/x-python",
   "name": "python",
   "nbconvert_exporter": "python",
   "pygments_lexer": "ipython3",
   "version": "3.9.5"
  }
 },
 "nbformat": 4,
 "nbformat_minor": 5
}
