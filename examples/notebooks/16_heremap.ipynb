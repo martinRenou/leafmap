{
 "cells": [
  {
   "cell_type": "markdown",
   "id": "a7424420",
   "metadata": {},
   "source": [
    "[![image](https://binder.pangeo.io/badge_logo.svg)](https://gishub.org/leafmap-pangeo)\n",
    "\n",
    "Uncomment the following line to install [leafmap](https://leafmap.org) if needed."
   ]
  },
  {
   "cell_type": "code",
   "execution_count": null,
   "id": "eeac34ce",
   "metadata": {},
   "outputs": [],
   "source": [
    "# !pip install leafmap"
   ]
  },
  {
   "cell_type": "markdown",
   "id": "8c209034",
   "metadata": {},
   "source": [
    "## Prerequisites\n",
    "Before you run the below cells make sure you have:\n",
    "- A HERE developer account, free and available under [HERE Developer Portal](https://developer.here.com)\n",
    "- An [API key](https://developer.here.com/documentation/identity-access-management/dev_guide/topics/dev-apikey.html) from the [HERE Developer Portal](https://developer.here.com)\n",
    "- Export API key into environment variable `HEREMAPS_API_KEY`\n",
    "\n",
    "    ```bash\n",
    "        export HEREMAPS_API_KEY=YOUR-ACTUAL-API-KEY\n",
    "    ```"
   ]
  },
  {
   "cell_type": "code",
   "execution_count": null,
   "id": "59c8949c",
   "metadata": {},
   "outputs": [],
   "source": [
    "import os\n",
    "import leafmap.heremap as leafmap"
   ]
  },
  {
   "cell_type": "code",
   "execution_count": null,
   "id": "4847d0d4",
   "metadata": {},
   "outputs": [],
   "source": [
    "# Read api_key from environment\n",
    "\n",
    "api_key = os.environ[\"HEREMAPS_API_KEY\"]"
   ]
  },
  {
   "cell_type": "markdown",
   "id": "f005b1ad",
   "metadata": {},
   "source": [
    "## HERE default basemap"
   ]
  },
  {
   "cell_type": "code",
   "execution_count": null,
   "id": "46779f36",
   "metadata": {},
   "outputs": [],
   "source": [
    "m = leafmap.Map(api_key=api_key)\n",
    "m"
   ]
  },
  {
   "cell_type": "code",
   "execution_count": null,
   "id": "4c766874",
   "metadata": {},
   "outputs": [],
   "source": [
    "m = leafmap.Map(api_key=api_key, center=[50, 19], zoom=4)  #center=[lat, lon]\n",
    "m"
   ]
  },
  {
   "cell_type": "code",
   "execution_count": null,
   "id": "de61460b",
   "metadata": {},
   "outputs": [],
   "source": [
    "m = leafmap.Map(api_key=api_key, fullscreen_control=False)\n",
    "m"
   ]
  },
  {
   "cell_type": "code",
   "execution_count": null,
   "id": "0db899d8",
   "metadata": {},
   "outputs": [],
   "source": [
    "m = leafmap.Map(api_key=api_key, height=\"450px\")\n",
    "m"
   ]
  },
  {
   "cell_type": "markdown",
   "id": "7eedd319",
   "metadata": {},
   "source": [
    "## Basemaps"
   ]
  },
  {
   "cell_type": "code",
   "execution_count": null,
   "id": "194c557c",
   "metadata": {},
   "outputs": [],
   "source": [
    "m = leafmap.Map(api_key=api_key, basemap=\"HERE_RASTER_TERRAIN_MAP\")\n",
    "m"
   ]
  },
  {
   "cell_type": "markdown",
   "id": "e98ba5e9",
   "metadata": {},
   "source": [
    "### zoom to bounds"
   ]
  },
  {
   "cell_type": "code",
   "execution_count": null,
   "id": "2f45058d",
   "metadata": {},
   "outputs": [],
   "source": [
    "m.zoom_to_bounds((-9.0882278, -55.3228175, 168.2249543, 72.2460938)) # South West North East"
   ]
  },
  {
   "cell_type": "code",
   "execution_count": null,
   "id": "b89127d1",
   "metadata": {},
   "outputs": [],
   "source": [
    "m.add_basemap(basemap=\"Esri Topo World\")"
   ]
  },
  {
   "cell_type": "code",
   "execution_count": null,
   "id": "4eac1fe9",
   "metadata": {},
   "outputs": [],
   "source": [
    "m = leafmap.Map(api_key=api_key, layers_control=True)\n",
    "m.add_tile_layer(url=\"https://mt1.google.com/vt/lyrs=y&x={x}&y={y}&z={z}\", name=\"Google Satellite\")\n",
    "m"
   ]
  },
  {
   "cell_type": "markdown",
   "id": "3a3790fe",
   "metadata": {},
   "source": [
    "## Add vector data\n",
    "**How to add GeoJSON to the map**"
   ]
  },
  {
   "cell_type": "code",
   "execution_count": null,
   "id": "e90cc80a",
   "metadata": {},
   "outputs": [],
   "source": [
    "m = leafmap.Map(api_key=api_key, center=[0, 0], zoom=2, layers_control=True)\n",
    "\n",
    "in_geojson = 'https://raw.githubusercontent.com/giswqs/leafmap/master/examples/data/cable-geo.geojson'\n",
    "m.add_geojson(in_geojson, layer_name=\"Cable lines\")\n",
    "\n",
    "m"
   ]
  },
  {
   "cell_type": "code",
   "execution_count": null,
   "id": "3aae4b8b",
   "metadata": {},
   "outputs": [],
   "source": [
    "import json \n",
    "\n",
    "m = leafmap.Map(api_key=api_key, center=[0, 0], zoom=2)\n",
    "with open(\"../data/countries.geojson\") as fh:\n",
    "    geo = json.load(fh)\n",
    "m.add_geojson(geo, layer_name=\"Countries\")\n",
    "m"
   ]
  },
  {
   "cell_type": "code",
   "execution_count": null,
   "id": "92da3625",
   "metadata": {},
   "outputs": [],
   "source": [
    "m = leafmap.Map(api_key=api_key, center=[0, 0], zoom=2)\n",
    "\n",
    "url = \"https://raw.githubusercontent.com/giswqs/leafmap/master/examples/data/countries.geojson\"\n",
    "\n",
    "style = {\n",
    "    \"fillColor\": \"rgba(0, 0, 255, 0.2)\", \"strokeColor\": \"blue\",\n",
    "}\n",
    "\n",
    "hover_style = {\"fillColor\": \"rgba(0, 0, 255, 0.7)\"}\n",
    "\n",
    "m.add_geojson(url, layer_name=\"Countries\", style=style, hover_style=hover_style)\n",
    "m"
   ]
  },
  {
   "cell_type": "code",
   "execution_count": null,
   "id": "d1d2c714",
   "metadata": {},
   "outputs": [],
   "source": [
    "in_shp = '../data/countries.shp'\n",
    "in_geojson = '../data/us-states.json'\n",
    "in_kml = '../data/us-states.kml'"
   ]
  },
  {
   "cell_type": "code",
   "execution_count": null,
   "id": "f933d905",
   "metadata": {},
   "outputs": [],
   "source": [
    "m = leafmap.Map(api_key=api_key, center=[0, 0], zoom=2)\n",
    "m.add_shp(in_shp, layer_name=\"Shapefile\")\n",
    "m"
   ]
  },
  {
   "cell_type": "code",
   "execution_count": null,
   "id": "971acbff",
   "metadata": {},
   "outputs": [],
   "source": [
    "m = leafmap.Map(api_key=api_key, center=[40.273502, -86.126976], zoom=4)\n",
    "m.add_kml(in_kml, layer_name=\"KML\")\n",
    "m"
   ]
  },
  {
   "cell_type": "code",
   "execution_count": null,
   "id": "3fad34a2",
   "metadata": {},
   "outputs": [],
   "source": [
    "m = leafmap.Map(api_key=api_key, center=[0, 0], zoom=2)\n",
    "url = \"https://raw.githubusercontent.com/giswqs/leafmap/master/examples/data/countries.geojson\"\n",
    "m.add_vector(url, layer_name=\"Countries\")\n",
    "m"
   ]
  },
  {
   "cell_type": "markdown",
   "id": "e6f21a6c",
   "metadata": {},
   "source": [
    "### Point style for GeoJSON"
   ]
  },
  {
   "cell_type": "code",
   "execution_count": null,
   "id": "0ffb5367",
   "metadata": {},
   "outputs": [],
   "source": [
    "m = leafmap.Map(api_key=api_key, center=[0, 0], zoom=2)\n",
    "\n",
    "url = \"http://earthquake.usgs.gov/earthquakes/feed/v1.0/summary/2.5_month.geojson\"\n",
    "point_style = {\"strokeColor\": 'white', \"lineWidth\": 1, \"fillColor\": \"red\", \"fillOpacity\": 0.7, \"radius\": 5}\n",
    "m.add_geojson(url, layer_name=\"Countries\", point_style=point_style, default_popup=True)\n",
    "m"
   ]
  },
  {
   "cell_type": "code",
   "execution_count": null,
   "id": "144aa0d8",
   "metadata": {},
   "outputs": [],
   "source": [
    "import geopandas\n",
    "import json\n",
    "import os\n",
    "\n",
    "countries = geopandas.read_file(geopandas.datasets.get_path(\"naturalearth_cities\"))\n",
    "point_style = {\"strokeColor\": 'white', \"lineWidth\": 1, \"fillColor\": \"blue\", \"fillOpacity\": 0.7, \"radius\": 5}\n",
    "\n",
    "m = leafmap.Map(api_key=api_key, center=[0, 0], zoom=3)\n",
    "m.add_gdf(countries, zoom_to_layer=False, point_style=point_style, default_popup=True)\n",
    "m"
   ]
  }
 ],
 "metadata": {
  "hide_input": false,
  "kernelspec": {
   "display_name": "Python 3",
   "language": "python",
   "name": "python3"
  },
  "language_info": {
   "codemirror_mode": {
    "name": "ipython",
    "version": 3
   },
   "file_extension": ".py",
   "mimetype": "text/x-python",
   "name": "python",
   "nbconvert_exporter": "python",
   "pygments_lexer": "ipython3",
   "version": "3.9.5"
  },
  "toc": {
   "base_numbering": 1,
   "nav_menu": {},
   "number_sections": true,
   "sideBar": true,
   "skip_h1_title": false,
   "title_cell": "Table of Contents",
   "title_sidebar": "Contents",
   "toc_cell": false,
   "toc_position": {},
   "toc_section_display": true,
   "toc_window_display": false
  },
  "varInspector": {
   "cols": {
    "lenName": 16,
    "lenType": 16,
    "lenVar": 40
   },
   "kernels_config": {
    "python": {
     "delete_cmd_postfix": "",
     "delete_cmd_prefix": "del ",
     "library": "var_list.py",
     "varRefreshCmd": "print(var_dic_list())"
    },
    "r": {
     "delete_cmd_postfix": ") ",
     "delete_cmd_prefix": "rm(",
     "library": "var_list.r",
     "varRefreshCmd": "cat(var_dic_list()) "
    }
   },
   "types_to_exclude": [
    "module",
    "function",
    "builtin_function_or_method",
    "instance",
    "_Feature"
   ],
   "window_display": false
  }
 },
 "nbformat": 4,
 "nbformat_minor": 5
}
